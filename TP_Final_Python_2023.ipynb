{
  "nbformat": 4,
  "nbformat_minor": 0,
  "metadata": {
    "colab": {
      "provenance": [],
      "authorship_tag": "ABX9TyPQyxEq0IeRl29G0BtojHD7",
      "include_colab_link": true
    },
    "kernelspec": {
      "name": "python3",
      "display_name": "Python 3"
    },
    "language_info": {
      "name": "python"
    }
  },
  "cells": [
    {
      "cell_type": "markdown",
      "metadata": {
        "id": "view-in-github",
        "colab_type": "text"
      },
      "source": [
        "<a href=\"https://colab.research.google.com/github/JuanMiguez/3rocfp10/blob/main/TP_Final_Python_2023.ipynb\" target=\"_parent\"><img src=\"https://colab.research.google.com/assets/colab-badge.svg\" alt=\"Open In Colab\"/></a>"
      ]
    },
    {
      "cell_type": "markdown",
      "source": [
        "## Ejecucion Condicional"
      ],
      "metadata": {
        "id": "QUCuY5yQcT47"
      }
    },
    {
      "cell_type": "markdown",
      "source": [
        "Ejercicio 1: Escribe un programa para pedirle al usuario el número de\n",
        "horas y la tarifa por hora para calcular el salario bruto.\n",
        "\n",
        "Introduzca Horas: 35\n",
        "\n",
        "Introduzca Tarifa: 2.75\n",
        "\n",
        "Salario: 96.25\n"
      ],
      "metadata": {
        "id": "Xt6d3HkBs49u"
      }
    },
    {
      "cell_type": "code",
      "source": [],
      "metadata": {
        "id": "-bJH1t-_cdLu"
      },
      "execution_count": null,
      "outputs": []
    },
    {
      "cell_type": "markdown",
      "source": [
        "\n",
        "Ejercicio 2: Reescribe el programa del cálculo del salario para darle al empleado 1.5 veces la tarifa horaria para todas las horas trabajadas que excedan de 40.\n",
        "\n",
        "Introduzca las Horas: 45\n",
        "\n",
        "Introduzca la Tarifa por hora: 10\n",
        "\n",
        "Salario: 475.0"
      ],
      "metadata": {
        "id": "4KNwMN2dRPvS"
      }
    },
    {
      "cell_type": "code",
      "source": [],
      "metadata": {
        "id": "4nrGOuBkclt3"
      },
      "execution_count": null,
      "outputs": []
    },
    {
      "cell_type": "markdown",
      "source": [
        "Ejercicio 3: Escribe un programa que solicite una puntuación entre 0.0 y 1.0. Si la puntuación está fuera de ese rango, muestra un mensaje de error. Si la puntuación está entre 0.0 y 1.0, muestra la calificación usando la tabla siguiente:\n",
        "\n",
        "Puntuación Calificación\n",
        "\n",
        "\\>= 0.9 Sobresaliente\n",
        "\n",
        "\\>= 0.8 Notable\n",
        "\n",
        "\\>= 0.7 Bien\n",
        "\n",
        "\\>= 0.6 Suficiente\n",
        "\n",
        "\\< 0.6 Insuficiente\n",
        "\n",
        "Introduzca puntuación: 0.95\n",
        "Sobresaliente\n",
        "\n",
        "Introduzca puntuación: perfecto\n",
        "Puntuación incorrecta\n",
        "\n",
        "Introduzca puntuación: 10.0\n",
        "Puntuación incorrecta\n",
        "\n",
        "Introduzca puntuación: 0.75\n",
        "Bien\n",
        "\n",
        "Introduzca puntuación: 0.5\n",
        "Insuficiente\n",
        "\n",
        "Ejecuta el programa repetidamente, como se muestra arriba, para probar con varios valores de entrada diferentes."
      ],
      "metadata": {
        "id": "X-WiTuO6HszE"
      }
    },
    {
      "cell_type": "markdown",
      "source": [
        "## Funciones"
      ],
      "metadata": {
        "id": "Gt9P9XfUc8Ad"
      }
    },
    {
      "cell_type": "markdown",
      "source": [
        "Ejercicio 4: ¿Cuál es la utilidad de la palabra clave “def” en Python?\n",
        "\n",
        "a) Es una jerga que significa “este código es realmente estupendo”\n",
        "\n",
        "b) Indica el comienzo de una función\n",
        "\n",
        "c) Indica que la siguiente sección de código indentado debe ser almacenada para usarla más tarde\n",
        "\n",
        "d) b y c son correctas ambas\n",
        "\n",
        "e) Ninguna de las anteriores"
      ],
      "metadata": {
        "id": "PYNmgve4c-4T"
      }
    },
    {
      "cell_type": "code",
      "source": [],
      "metadata": {
        "id": "NMC3v442ctgd"
      },
      "execution_count": null,
      "outputs": []
    },
    {
      "cell_type": "markdown",
      "source": [
        "Ejercicio 5: ¿Qué mostrará en pantalla el siguiente programa Python?\n",
        "\n",
        "\n",
        "```\n",
        "def fred():\n",
        "  print(\"Zap\")\n",
        "def jane():\n",
        "  print(\"ABC\")\n",
        "```\n",
        "\n",
        "```\n",
        "jane()\n",
        "fred()\n",
        "jane()\n",
        "```\n",
        "\n",
        "a) Zap ABC jane fred jane\n",
        "\n",
        "b) Zap ABC Zap\n",
        "\n",
        "c) ABC Zap jane\n",
        "\n",
        "d) ABC Zap ABC\n",
        "\n",
        "e) Zap Zap Zap"
      ],
      "metadata": {
        "id": "gNjoweuXdP1L"
      }
    },
    {
      "cell_type": "markdown",
      "source": [
        "Ejercicio 6: Reescribe el programa de cálculo del salario, con tarifa-ymedia para las horas extras, y crea una función llamada calculo_salario que reciba dos parámetros (horas y tarifa).\n",
        "\n",
        "Introduzca Horas: 45\n",
        "\n",
        "Introduzca Tarifa: 10\n",
        "\n",
        "Salario: 475.0"
      ],
      "metadata": {
        "id": "U0GwtoPYdigr"
      }
    },
    {
      "cell_type": "code",
      "source": [],
      "metadata": {
        "id": "d46Yc7Y6deXO"
      },
      "execution_count": null,
      "outputs": []
    },
    {
      "cell_type": "markdown",
      "source": [
        "Ejercicio 7: Reescribe el programa de calificaciones del capítulo anterior usando una función llamada calcula_calificacion, que reciba una puntuación como parámetro y devuelva una calificación como cadena.\n",
        "\n",
        "Puntuación Calificación\n",
        "\n",
        "> 0.9 Sobresaliente\n",
        "\n",
        "> 0.8 Notable\n",
        "\n",
        "> 0.7 Bien\n",
        "\n",
        "> 0.6 Suficiente\n",
        "\n",
        "<= 0.6 Insuficiente\n",
        "\n",
        "Introduzca puntuación: 0.95\n",
        "\n",
        "Sobresaliente\n",
        "Introduzca puntuación: perfecto\n",
        "\n",
        "Puntuación incorrecta\n",
        "Introduzca puntuación: 10.0\n",
        "\n",
        "Puntuación incorrecta\n",
        "Introduzca puntuación: 0.75\n",
        "\n",
        "Bien\n",
        "Introduzca puntuación: 0.5\n",
        "\n",
        "Insuficiente\n",
        "Ejecuta el programa repetidamente para probar con varios valores de entrada diferentes."
      ],
      "metadata": {
        "id": "siYJ_2WVdp8O"
      }
    },
    {
      "cell_type": "code",
      "source": [],
      "metadata": {
        "id": "iz9u0JRVdqyF"
      },
      "execution_count": null,
      "outputs": []
    },
    {
      "cell_type": "markdown",
      "source": [
        "##Iteracion"
      ],
      "metadata": {
        "id": "CERVTF4ddruJ"
      }
    },
    {
      "cell_type": "markdown",
      "source": [
        "Ejercicio 8: Escribe un programa que lea repetidamente números hasta que el usuario introduzca “fin”. Una vez se haya introducido “fin”, muestra por pantalla el total, la cantidad de números y la media de esos números. Si el usuario introduce cualquier otra cosa que no sea un número, detecta su fallo usando try y except, muestra un mensaje de error y pasa al número siguiente.\n",
        "\n",
        "Introduzca un número: 4\n",
        "\n",
        "Introduzca un número: 5\n",
        "\n",
        "Introduzca un número: dato erróneo\n",
        "\n",
        "Entrada inválida\n",
        "\n",
        "Introduzca un número: 7\n",
        "\n",
        "Introduzca un número: fin\n",
        "\n",
        "16 3 5.33333333333"
      ],
      "metadata": {
        "id": "UiuAud1cd6Vy"
      }
    },
    {
      "cell_type": "code",
      "source": [],
      "metadata": {
        "id": "H_swftv5d2pm"
      },
      "execution_count": null,
      "outputs": []
    },
    {
      "cell_type": "markdown",
      "source": [
        "Ejercicio 9: Escribe otro programa que pida una lista de números como la anterior y al final muestre por pantalla el máximo y mínimo de los números, en vez de la media."
      ],
      "metadata": {
        "id": "cd3TNnOeeCJJ"
      }
    },
    {
      "cell_type": "code",
      "source": [],
      "metadata": {
        "id": "y9RsXKkOeDfR"
      },
      "execution_count": null,
      "outputs": []
    },
    {
      "cell_type": "markdown",
      "source": [
        "##Cadenas"
      ],
      "metadata": {
        "id": "pot-Z7a1eNwe"
      }
    },
    {
      "cell_type": "markdown",
      "source": [
        "Ejercicio 10: Toma el siguiente código en Python que almacena una cadena:\n",
        "\n",
        "str = 'X-DSPAM-Confidence:0.8475'\n",
        "\n",
        "Utiliza find y una parte de la cadena para extraer la porción de la cadena después del carácter dos puntos y después utiliza la función float para convertir la cadena extraída en un número de punto flotante."
      ],
      "metadata": {
        "id": "-TGFFgzieQSe"
      }
    },
    {
      "cell_type": "code",
      "source": [],
      "metadata": {
        "id": "XsmcapLYePv-"
      },
      "execution_count": null,
      "outputs": []
    },
    {
      "cell_type": "markdown",
      "source": [
        "Ejercicio 11: Los teléfonos de una empresa tienen el siguiente formato prefijo-número-extension donde el prefijo es el código del país +549, y la extensión tiene dos dígitos (por ejemplo +549 1172471056 34). Escribir un programa que pregunte por un número de teléfono con este formato y muestre por pantalla el número de teléfono sin el prefijo y la extensión.."
      ],
      "metadata": {
        "id": "cTcxo2STeWyN"
      }
    },
    {
      "cell_type": "code",
      "source": [],
      "metadata": {
        "id": "U0Kv_l32eYG9"
      },
      "execution_count": null,
      "outputs": []
    },
    {
      "cell_type": "markdown",
      "source": [
        "Ejercicio 12: Escribir un programa que pregunte el nombre del usuario en la consola y un número entero e imprima por pantalla en líneas distintas el nombre del usuario tantas veces como el número introducido."
      ],
      "metadata": {
        "id": "kLwoctAbeby5"
      }
    },
    {
      "cell_type": "code",
      "source": [],
      "metadata": {
        "id": "NfKetdxcedSV"
      },
      "execution_count": null,
      "outputs": []
    },
    {
      "cell_type": "markdown",
      "source": [
        "Ejercicio 13: Escribir un programa que pregunte el nombre completo del usuario en la consola y después muestre por pantalla el nombre completo del usuario tres veces, una con todas las letras minúsculas, otra con todas las letras mayúsculas y otra solo con la primera letra del nombre y de los apellidos en mayúscula. El usuario puede introducir su nombre combinando mayúsculas y minúsculas como quiera."
      ],
      "metadata": {
        "id": "RIx5eDjSeflA"
      }
    },
    {
      "cell_type": "code",
      "source": [],
      "metadata": {
        "id": "X52TJlB_egvh"
      },
      "execution_count": null,
      "outputs": []
    },
    {
      "cell_type": "markdown",
      "source": [
        "Ejercicio 14:Escribir un programa que pregunte el nombre del usuario en la consola y después de que el usuario lo introduzca muestre por pantalla < NOMBRE > tiene < n > letras, donde < NOMBRE > es el nombre de usuario en mayúsculas y < n > es el número de letras que tienen el nombre."
      ],
      "metadata": {
        "id": "pkJZ-tQtei91"
      }
    },
    {
      "cell_type": "code",
      "source": [],
      "metadata": {
        "id": "DHp2E5HUek_u"
      },
      "execution_count": null,
      "outputs": []
    },
    {
      "cell_type": "markdown",
      "source": [
        "##Archivos"
      ],
      "metadata": {
        "id": "g_n_UT_MewJ6"
      }
    },
    {
      "cell_type": "markdown",
      "source": [
        "Ejercicio 15: Escribe un programa que lea un archivo e imprima su contenido (línea por línea), todo en mayúsculas. Al ejecutar el programa, debería parecerse a esto:\n",
        "\n",
        "Ingresa un nombre de archivo: mbox-short.txt\n",
        "\n",
        "FROM STEPHEN.MARQUARD@UCT.AC.ZA SAT JAN 5 09:14:16 2008 RETURN-PATH: POSTMASTER@COLLAB.SAKAIPROJECT.ORG RECEIVED: FROM MURDER (MAIL.UMICH.EDU [141.211.14.90]) BY FRANKENSTEIN.MAIL.UMICH.EDU (CYRUS V2.3.8) WITH LMTPA; SAT, 05 JAN 2008 09:14:16 -0500"
      ],
      "metadata": {
        "id": "qzm5dH4Xezp1"
      }
    },
    {
      "cell_type": "code",
      "source": [],
      "metadata": {
        "id": "Fd5h2SGKex3M"
      },
      "execution_count": null,
      "outputs": []
    },
    {
      "cell_type": "markdown",
      "source": [
        "Ejercicio 16: Escribe un programa que solicite un nombre de archivo y después lea ese archivo buscando las líneas que tengan la siguiente forma:\n",
        "\n",
        "X-DSPAM-Confidence: 0.8475\n",
        "\n",
        "Cuando encuentres una línea que comience con “X-DSPAM-Confidence:” ponla aparte para extraer el número decimal de la línea. Cuenta esas líneas y después calcula el total acumulado de los valores de “spam-confidence”. Cuando llegues al final del archivo, imprime el valor medio de “spam confidence”.\n",
        "\n",
        "Ingresa un nombre de archivo: mbox.txt\n",
        "\n",
        "Promedio spam confidence: 0.894128046745\n",
        "\n",
        "Ingresa un nombre de archivo: mbox-short.txt\n",
        "\n",
        "Promedio spam confidence: 0.750718518519"
      ],
      "metadata": {
        "id": "IlSyUF0ee8gC"
      }
    },
    {
      "cell_type": "code",
      "source": [],
      "metadata": {
        "id": "1TEH5R9We-C0"
      },
      "execution_count": null,
      "outputs": []
    },
    {
      "cell_type": "markdown",
      "source": [
        "Ejercicio 17:Algunas veces cuando los programadores se aburren o quieren divertirse un poco, agregan un inofensivo Huevo de Pascua a su programa. Modifica el programa que pregunta al usuario por el nombre de archivo para que imprima un mensaje divertido cuando el usuario escriba “na na boo boo” como nombre de archivo. El programa debería funcionar normalmente para cualquier archivo que exista o no exista. Aquí está un ejemplo de la ejecución del programa:\n",
        "\n",
        "Ingresa un nombre de archivo: mbox.txt\n",
        "\n",
        "Hay 1797 líneas subject en mbox.txt\n",
        "\n",
        "Ingresa un nombre de archivo: inexistente.tyxt\n",
        "\n",
        "El archivo no puede ser abierto: inexistente.tyxt\n",
        "\n",
        "Ingresa un nombre de archivo: na na boo boo\n",
        "\n",
        "NA NA BOO BOO PARA TI - Te he atrapado!"
      ],
      "metadata": {
        "id": "w_PpOUghfCPb"
      }
    },
    {
      "cell_type": "code",
      "source": [],
      "metadata": {
        "id": "4o_KVubGfDt0"
      },
      "execution_count": null,
      "outputs": []
    },
    {
      "cell_type": "markdown",
      "source": [
        "## listas"
      ],
      "metadata": {
        "id": "9QRnjpX4fKjP"
      }
    },
    {
      "cell_type": "markdown",
      "source": [
        "Ejercicio 18: Encontrar que línea del programa de arriba no está protegida (método guardián) propiamente. Trata de construir un archivo de texto que cause que el programa falle y después modifica el programa de modo que la línea es propiamente protegida y pruébalo para asegurarte que el programa es capaz de manejar tu nuevo archivo de texto."
      ],
      "metadata": {
        "id": "jqmnB_c2fRkU"
      }
    },
    {
      "cell_type": "code",
      "source": [],
      "metadata": {
        "id": "crRuZy0MfMz1"
      },
      "execution_count": null,
      "outputs": []
    },
    {
      "cell_type": "markdown",
      "source": [
        "Ejercicio 19: Reescribe el código guardián en el ejemplo de arriba sin las dos sentencias if. En vez de eso, utiliza una expresión lógica compuesta utilizando el operador lógico or con una sola sentencia if."
      ],
      "metadata": {
        "id": "uYTaJlpdfVJo"
      }
    },
    {
      "cell_type": "code",
      "source": [],
      "metadata": {
        "id": "R12mgGRVfWf1"
      },
      "execution_count": null,
      "outputs": []
    },
    {
      "cell_type": "markdown",
      "source": [
        "Ejercicio 20: Descargar una copia de un archivo www.py4e.com/code3/romeo.txt. Escribir un programa para abrir el archivo romeo.txt y leerlo línea por línea. Para cada línea, dividir la línea en una lista de palabras utilizando la función split. Para cada palabra, revisar si la palabra ya se encuentra previamente en la lista. Si la palabra no está en la lista, agregarla a la lista. Cuando el programa termine, ordenar e imprimir las palabras resultantes en orden alfabético.\n",
        "\n",
        "Ingresar nombre de archivo: romeo.txt ['Arise', 'But', 'It', 'Juliet', 'Who', 'already', 'and', 'breaks', 'east', 'envious', 'fair', 'grief', 'is', 'kill', 'light', 'moon', 'pale', 'sick', 'soft', 'sun', 'the', 'through', 'what', 'window', 'with', 'yonder']"
      ],
      "metadata": {
        "id": "MnJqoPP7fb9D"
      }
    },
    {
      "cell_type": "code",
      "source": [],
      "metadata": {
        "id": "DAmYadObfdEm"
      },
      "execution_count": null,
      "outputs": []
    },
    {
      "cell_type": "markdown",
      "source": [
        "Ejercicio 21: Escribir un programa para leer a través de datos de una bandeja de entrada de correo y cuando encuentres una línea que comience con “From”, dividir la línea en palabras utilizando la función split. Estamos interesados en quién envió el mensaje, lo cual es la segunda palabra en las líneas que comienzan con From.\n",
        "\n",
        "From stephen.marquard@uct.ac.za Sat Jan 5 09:14:16 2008\n",
        "\n",
        "Tendrás que analizar la línea From e imprimir la segunda palabra de cada línea From, después tendrás que contar el número de líneas From (no incluir From:) e imprimir el total al final. Este es un buen ejemplo de salida con algunas líneas de salida removidas:\n",
        "\n",
        "Ingresa un nombre de archivo: mbox-short.txt\n",
        "\n",
        "stephen.marquard@uct.ac.za\n",
        "\n",
        "louis@media.berkeley.edu\n",
        "\n",
        "zqian@umich.edu\n",
        "\n",
        "[...líneas de salida removidas...]\n",
        "\n",
        "ray@media.berkeley.edu\n",
        "\n",
        "cwen@iupui.edu\n",
        "\n",
        "cwen@iupui.edu\n",
        "\n",
        "cwen@iupui.edu\n",
        "\n",
        "Hay 27 lineas en el archivo con la palabra From al inicio\n",
        "\n",
        "Ejercicio 6: Reescribe el programa que pide al usuario una lista de números e imprime el máximo y el mínimo de los números al final cuando el usuario ingresa “hecho”. Escribe el programa para almacenar los números que el usuario ingrese en una lista, y utiliza las funciones max() y min() para calcular el máximo y el mínimo después de que el bucle termine.\n",
        "\n",
        "Ingresa un número: 6\n",
        "\n",
        "Ingresa un número: 2\n",
        "\n",
        "Ingresa un número: 9\n",
        "\n",
        "Ingresa un número: 3\n",
        "\n",
        "Ingresa un número: 5\n",
        "\n",
        "Ingresa un número: hecho\n",
        "\n",
        "Máximo: 9.0\n",
        "\n",
        "Minimo: 2.0"
      ],
      "metadata": {
        "id": "nTUmBhDFfhC1"
      }
    },
    {
      "cell_type": "code",
      "source": [],
      "metadata": {
        "id": "2A4Ex-0Tfja9"
      },
      "execution_count": null,
      "outputs": []
    }
  ]
}