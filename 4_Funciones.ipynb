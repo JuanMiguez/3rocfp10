{
  "nbformat": 4,
  "nbformat_minor": 0,
  "metadata": {
    "colab": {
      "provenance": [],
      "authorship_tag": "ABX9TyOuyJ69ZBfC6GrwmNXv99FY",
      "include_colab_link": true
    },
    "kernelspec": {
      "name": "python3",
      "display_name": "Python 3"
    },
    "language_info": {
      "name": "python"
    }
  },
  "cells": [
    {
      "cell_type": "markdown",
      "metadata": {
        "id": "view-in-github",
        "colab_type": "text"
      },
      "source": [
        "<a href=\"https://colab.research.google.com/github/JuanMiguez/3rocfp10/blob/main/4_Funciones.ipynb\" target=\"_parent\"><img src=\"https://colab.research.google.com/assets/colab-badge.svg\" alt=\"Open In Colab\"/></a>"
      ]
    },
    {
      "cell_type": "markdown",
      "source": [
        "# Funciones"
      ],
      "metadata": {
        "id": "sM-rTjDmZ2w_"
      }
    },
    {
      "cell_type": "markdown",
      "source": [
        "##Llamadas a funciones"
      ],
      "metadata": {
        "id": "WASPnAEgbMUO"
      }
    },
    {
      "cell_type": "markdown",
      "source": [
        "En el contexto de la programación, una *función* es una secuencia de sentencias que\n",
        "realizan una operación y que reciben un nombre. Cuando se define una función, se\n",
        "especifica el nombre y la secuencia de sentencias. Más adelante, se puede “llamar”\n",
        "a la función por ese nombre. Ya hemos visto un ejemplo de una llamada a una función:"
      ],
      "metadata": {
        "id": "sIK9VBLxZ-CW"
      }
    },
    {
      "cell_type": "code",
      "execution_count": null,
      "metadata": {
        "colab": {
          "base_uri": "https://localhost:8080/"
        },
        "id": "GlteXD5OZvA4",
        "outputId": "df10e750-cf6a-49a6-c55d-fc3de6f18655"
      },
      "outputs": [
        {
          "output_type": "execute_result",
          "data": {
            "text/plain": [
              "int"
            ]
          },
          "metadata": {},
          "execution_count": 1
        }
      ],
      "source": [
        "type(32)"
      ]
    },
    {
      "cell_type": "markdown",
      "source": [
        "El nombre de la función es **type**. La expresión entre paréntesis recibe el nombre\n",
        "de argumento de la función. El argumento es un valor o variable que se pasa a la\n",
        "función como parámetro de entrada. El resultado de la función **type** es el tipo del\n",
        "argumento.\n",
        "\n",
        "Es habitual decir que una función “toma” (o recibe) un argumento y “retorna” (o\n",
        "devuelve) un resultado. El resultado se llama *valor de retorno*."
      ],
      "metadata": {
        "id": "90rTQCtiaxbq"
      }
    },
    {
      "cell_type": "markdown",
      "source": [
        "##Funciones internas"
      ],
      "metadata": {
        "id": "PiHEfJ5bbGcf"
      }
    },
    {
      "cell_type": "markdown",
      "source": [
        "Python proporciona un número importante de funciones internas, que pueden ser\n",
        "usadas sin necesidad de tener que definirlas previamente. Los creadores de Python\n",
        "han escrito un conjunto de funciones para resolver problemas comunes y las han\n",
        "incluido en Python para que las podamos utilizar.\n",
        "\n",
        "Las funciones **max** y min nos darán respectivamente el valor mayor y menor de una\n",
        "lista:"
      ],
      "metadata": {
        "id": "pmDDgIuXc5HS"
      }
    },
    {
      "cell_type": "code",
      "source": [
        "max('¡Hola, mundo!')"
      ],
      "metadata": {
        "colab": {
          "base_uri": "https://localhost:8080/",
          "height": 36
        },
        "id": "h_0wLDwWatl5",
        "outputId": "20877412-fd9a-4325-c5dd-a9c6b2bd2484"
      },
      "execution_count": null,
      "outputs": [
        {
          "output_type": "execute_result",
          "data": {
            "text/plain": [
              "'¡'"
            ],
            "application/vnd.google.colaboratory.intrinsic+json": {
              "type": "string"
            }
          },
          "metadata": {},
          "execution_count": 2
        }
      ]
    },
    {
      "cell_type": "code",
      "source": [
        "min('¡Hola, mundo!')"
      ],
      "metadata": {
        "colab": {
          "base_uri": "https://localhost:8080/",
          "height": 36
        },
        "id": "I1vUFfFZdDfK",
        "outputId": "d7d209ec-0596-4709-f5f5-53060be10fee"
      },
      "execution_count": null,
      "outputs": [
        {
          "output_type": "execute_result",
          "data": {
            "text/plain": [
              "' '"
            ],
            "application/vnd.google.colaboratory.intrinsic+json": {
              "type": "string"
            }
          },
          "metadata": {},
          "execution_count": 3
        }
      ]
    },
    {
      "cell_type": "markdown",
      "source": [
        "La función **max** nos dice cuál es el “carácter más grande” de la cadena (que resulta\n",
        "ser la letra “¡”), mientras que la función **min** nos muestra el carácter más pequeño\n",
        "(que en ese caso es un espacio).\n",
        "\n",
        "Otra función interna muy común es **len**, que nos dice cuántos elementos hay en\n",
        "su argumento. Si el argumento de **len** es una cadena, nos devuelve el número de\n",
        "caracteres que hay en la cadena."
      ],
      "metadata": {
        "id": "JRBZgPfIdNSs"
      }
    },
    {
      "cell_type": "code",
      "source": [
        "len('Hola, mundo')"
      ],
      "metadata": {
        "colab": {
          "base_uri": "https://localhost:8080/"
        },
        "id": "DOOcoxLrdHbn",
        "outputId": "d88b1ac9-40a3-4212-ce65-8c13a0b27aab"
      },
      "execution_count": null,
      "outputs": [
        {
          "output_type": "execute_result",
          "data": {
            "text/plain": [
              "11"
            ]
          },
          "metadata": {},
          "execution_count": 4
        }
      ]
    },
    {
      "cell_type": "markdown",
      "source": [
        "Estas funciones no se limitan a buscar en cadenas. Pueden operar con cualquier\n",
        "conjunto de valores, como veremos en los siguientes capítulos.\n",
        "\n",
        "Se deben tratar los nombres de las funciones internas como si fueran palabras\n",
        "reservadas (es decir, evita usar “max” como nombre para una variable)."
      ],
      "metadata": {
        "id": "DXasHmHqdnG6"
      }
    },
    {
      "cell_type": "markdown",
      "source": [
        "##Funciones de conversión de tipos"
      ],
      "metadata": {
        "id": "9XrYZVo7dp7e"
      }
    },
    {
      "cell_type": "markdown",
      "source": [
        "Python también proporciona funciones internas que convierten valores de un tipo\n",
        "a otro. La función **int** toma cualquier valor y lo convierte en un entero, si puede,\n",
        "o se queja si no puede:"
      ],
      "metadata": {
        "id": "ZwlR6yoWdwJZ"
      }
    },
    {
      "cell_type": "code",
      "source": [
        "int('32')"
      ],
      "metadata": {
        "colab": {
          "base_uri": "https://localhost:8080/"
        },
        "id": "VeF8FFCSdjwu",
        "outputId": "c7595911-731d-4457-9bf8-821df5aac0a3"
      },
      "execution_count": null,
      "outputs": [
        {
          "output_type": "execute_result",
          "data": {
            "text/plain": [
              "32"
            ]
          },
          "metadata": {},
          "execution_count": 5
        }
      ]
    },
    {
      "cell_type": "code",
      "source": [
        "int('Hola')"
      ],
      "metadata": {
        "colab": {
          "base_uri": "https://localhost:8080/",
          "height": 169
        },
        "id": "iDM2tdUud9Wu",
        "outputId": "0b73fb79-e81b-4ed4-e072-d58497e13997"
      },
      "execution_count": null,
      "outputs": [
        {
          "output_type": "error",
          "ename": "ValueError",
          "evalue": "ignored",
          "traceback": [
            "\u001b[0;31m---------------------------------------------------------------------------\u001b[0m",
            "\u001b[0;31mValueError\u001b[0m                                Traceback (most recent call last)",
            "\u001b[0;32m<ipython-input-6-3e58bd585213>\u001b[0m in \u001b[0;36m<cell line: 1>\u001b[0;34m()\u001b[0m\n\u001b[0;32m----> 1\u001b[0;31m \u001b[0mint\u001b[0m\u001b[0;34m(\u001b[0m\u001b[0;34m'Hola'\u001b[0m\u001b[0;34m)\u001b[0m\u001b[0;34m\u001b[0m\u001b[0;34m\u001b[0m\u001b[0m\n\u001b[0m",
            "\u001b[0;31mValueError\u001b[0m: invalid literal for int() with base 10: 'Hola'"
          ]
        }
      ]
    },
    {
      "cell_type": "markdown",
      "source": [
        "int puede convertir valores en punto flotante a enteros, pero no los redondea;\n",
        "simplemente corta y descarta la parte decimal:"
      ],
      "metadata": {
        "id": "YWrSRfuPeHco"
      }
    },
    {
      "cell_type": "code",
      "source": [
        "int(3.99999)"
      ],
      "metadata": {
        "colab": {
          "base_uri": "https://localhost:8080/"
        },
        "id": "CTx38KzFeC1G",
        "outputId": "f81caaa2-f083-48bf-ab33-c0a8bf7a842e"
      },
      "execution_count": null,
      "outputs": [
        {
          "output_type": "execute_result",
          "data": {
            "text/plain": [
              "3"
            ]
          },
          "metadata": {},
          "execution_count": 7
        }
      ]
    },
    {
      "cell_type": "code",
      "source": [
        "int(-2.3)"
      ],
      "metadata": {
        "colab": {
          "base_uri": "https://localhost:8080/"
        },
        "id": "UoM5GAxEeLtg",
        "outputId": "9daa5238-a73d-4d3c-f143-5d8e47531559"
      },
      "execution_count": null,
      "outputs": [
        {
          "output_type": "execute_result",
          "data": {
            "text/plain": [
              "-2"
            ]
          },
          "metadata": {},
          "execution_count": 8
        }
      ]
    },
    {
      "cell_type": "markdown",
      "source": [
        "**float** convierte enteros y cadenas en números de punto flotante:"
      ],
      "metadata": {
        "id": "71HpvE8keRbQ"
      }
    },
    {
      "cell_type": "code",
      "source": [
        "float(32)"
      ],
      "metadata": {
        "colab": {
          "base_uri": "https://localhost:8080/"
        },
        "id": "HJoDGBbceN5X",
        "outputId": "6fc4cf07-ddf8-412d-ceb1-3db26183848a"
      },
      "execution_count": null,
      "outputs": [
        {
          "output_type": "execute_result",
          "data": {
            "text/plain": [
              "32.0"
            ]
          },
          "metadata": {},
          "execution_count": 9
        }
      ]
    },
    {
      "cell_type": "code",
      "source": [
        "float('3.14159')"
      ],
      "metadata": {
        "colab": {
          "base_uri": "https://localhost:8080/"
        },
        "id": "2X02LeqFeXp-",
        "outputId": "20430776-ddbf-4270-8ec8-da64f70cf4aa"
      },
      "execution_count": null,
      "outputs": [
        {
          "output_type": "execute_result",
          "data": {
            "text/plain": [
              "3.14159"
            ]
          },
          "metadata": {},
          "execution_count": 10
        }
      ]
    },
    {
      "cell_type": "markdown",
      "source": [
        "Finalmente, **str** convierte su argumento en una cadena:"
      ],
      "metadata": {
        "id": "nagKboMCecsx"
      }
    },
    {
      "cell_type": "code",
      "source": [
        "str(32)"
      ],
      "metadata": {
        "colab": {
          "base_uri": "https://localhost:8080/",
          "height": 36
        },
        "id": "kGA7I2TgehC0",
        "outputId": "4b782994-7341-4c0c-c1ff-32e2cb2bea06"
      },
      "execution_count": null,
      "outputs": [
        {
          "output_type": "execute_result",
          "data": {
            "text/plain": [
              "'32'"
            ],
            "application/vnd.google.colaboratory.intrinsic+json": {
              "type": "string"
            }
          },
          "metadata": {},
          "execution_count": 11
        }
      ]
    },
    {
      "cell_type": "code",
      "source": [
        "str(3.14159)\n",
        "'3.14159'"
      ],
      "metadata": {
        "colab": {
          "base_uri": "https://localhost:8080/",
          "height": 36
        },
        "id": "hWhgn78WeZ_2",
        "outputId": "71b94493-10da-454a-bd71-75654c34b5f4"
      },
      "execution_count": null,
      "outputs": [
        {
          "output_type": "execute_result",
          "data": {
            "text/plain": [
              "'3.14159'"
            ],
            "application/vnd.google.colaboratory.intrinsic+json": {
              "type": "string"
            }
          },
          "metadata": {},
          "execution_count": 12
        }
      ]
    },
    {
      "cell_type": "markdown",
      "source": [
        "##Funciones matemáticas"
      ],
      "metadata": {
        "id": "xFyvfTLeepxf"
      }
    },
    {
      "cell_type": "markdown",
      "source": [
        "Python tiene un módulo matemático (**math**), que proporciona la mayoría de las\n",
        "funciones matemáticas habituales. Antes de que podamos utilizar el módulo, deberemos\n",
        "importarlo:"
      ],
      "metadata": {
        "id": "USExDwPgeti5"
      }
    },
    {
      "cell_type": "code",
      "source": [
        "import math"
      ],
      "metadata": {
        "id": "I_ys877BemG-"
      },
      "execution_count": null,
      "outputs": []
    },
    {
      "cell_type": "markdown",
      "source": [
        "Esta sentencia crea un **objeto módulo** llamado math. Si se imprime el objeto\n",
        "módulo, se obtiene cierta información sobre él:"
      ],
      "metadata": {
        "id": "DhLwG9BXe4N-"
      }
    },
    {
      "cell_type": "code",
      "source": [
        "print(math)"
      ],
      "metadata": {
        "colab": {
          "base_uri": "https://localhost:8080/"
        },
        "id": "Loqwsx16e1Kt",
        "outputId": "936348b5-bbd6-4bf0-8dd1-1b840e86d328"
      },
      "execution_count": null,
      "outputs": [
        {
          "output_type": "stream",
          "name": "stdout",
          "text": [
            "<module 'math' (built-in)>\n"
          ]
        }
      ]
    },
    {
      "cell_type": "markdown",
      "source": [
        "El objeto módulo contiene las funciones y variables definidas en el módulo. Para\n",
        "acceder a una de esas funciones, es necesario especificar el nombre del módulo y el\n",
        "nombre de la función, separados por un punto (también conocido en inglés como\n",
        "**períod**). Este formato recibe el nombre de *notación punto*.\n",
        "\n",
        "```\n",
        "relacion = int_senal / int_ruido\n",
        "decibelios = 10 * math.log10(relacion)\n",
        "\n",
        "radianes = 0.7\n",
        "altura = math.sin(radianes)\n",
        "```\n",
        "El primer ejemplo calcula el logaritmo en base 10 de la relación señal-ruido. El\n",
        "módulo math también proporciona una función llamada **log** que calcula logaritmos\n",
        "en base *e*.\n",
        "El segundo ejemplo calcula el seno de la variable **radianes**. El nombre de la\n",
        "variable es una pista de que **sin** y las otras funciones trigonométricas (**cos**, **tan**,\n",
        "etc.) toman argumentos en radianes. Para convertir de grados a radianes, hay que\n",
        "dividir por 360 y multiplicar por 2π:\n"
      ],
      "metadata": {
        "id": "I21pX3s9fFAS"
      }
    },
    {
      "cell_type": "code",
      "source": [
        "grados = 45\n",
        "radianes = grados / 360.0 * 2 * math.pi\n",
        "math.sin(radianes)"
      ],
      "metadata": {
        "colab": {
          "base_uri": "https://localhost:8080/"
        },
        "id": "dvsQhlBpfB6N",
        "outputId": "464c69e2-33d8-4780-f095-bfb56d19fdd1"
      },
      "execution_count": null,
      "outputs": [
        {
          "output_type": "execute_result",
          "data": {
            "text/plain": [
              "0.7071067811865475"
            ]
          },
          "metadata": {},
          "execution_count": 15
        }
      ]
    },
    {
      "cell_type": "markdown",
      "source": [
        "La expresión math.pi toma la variable pi del módulo math. El valor de esa variable\n",
        "es una aproximación de π, con una precisión de unos 15 dígitos.\n",
        "\n",
        "Si sabes de trigonometría, puedes comprobar el resultado anterior, comparándolo\n",
        "con la raíz cuadrada de dos dividida por dos:"
      ],
      "metadata": {
        "id": "5S7yDRkZh04l"
      }
    },
    {
      "cell_type": "code",
      "source": [
        "math.sqrt(2) / 2.0"
      ],
      "metadata": {
        "colab": {
          "base_uri": "https://localhost:8080/"
        },
        "id": "is-YyPPjhw7u",
        "outputId": "c85a02b4-5c64-4be0-82f5-7f0325726773"
      },
      "execution_count": null,
      "outputs": [
        {
          "output_type": "execute_result",
          "data": {
            "text/plain": [
              "0.7071067811865476"
            ]
          },
          "metadata": {},
          "execution_count": 16
        }
      ]
    },
    {
      "cell_type": "markdown",
      "source": [
        "##Números aleatorios"
      ],
      "metadata": {
        "id": "NmREKAbwi_SI"
      }
    },
    {
      "cell_type": "markdown",
      "source": [
        "A partir de las mismas entradas, la mayoría de los programas generarán las mismas salidas cada vez, que es lo que llamamos comportamiento *determinista*. El determinismo normalmente es algo bueno, ya que esperamos que la misma operación nos proporcione siempre el mismo resultado. Para ciertas aplicaciones, sin embargo,\n",
        "querremos que el resultado sea impredecible. Los juegos son el ejemplo obvio, pero hay más.\n",
        "\n",
        "Conseguir que un programa sea realmente no-determinista no resulta tan fácil, pero hay modos de hacer que al menos lo parezca. Una de ellos es usar *algoritmos*\n",
        "que generen números *pseudoaleatorios*. Los números pseudoaleatorios no son verdaderamente aleatorios, ya que son generados por una operación determinista,\n",
        "pero si sólo nos fijamos en los números resulta casi imposible distinguirlos de los aleatorios de verdad.\n",
        "\n",
        "El módulo *random* proporciona funciones que generan números pseudoaleatorios (a los que simplemente llamaremos “aleatorios” de ahora en adelante).\n",
        "\n",
        "La función *random* devuelve un número flotante aleatorio entre 0.0 y 1.0 (incluyendo\n",
        "0.0, pero no 1.0). Cada vez que se llama a *random*, se obtiene el número siguiente\n",
        "de una larga serie. Para ver un ejemplo, ejecuta este bucle:"
      ],
      "metadata": {
        "id": "TF2wvhDujFXr"
      }
    },
    {
      "cell_type": "code",
      "source": [
        "import random\n",
        "for i in range(10):\n",
        "  x = random.random()\n",
        "  print(x)"
      ],
      "metadata": {
        "colab": {
          "base_uri": "https://localhost:8080/"
        },
        "id": "woxxfZHwiBbk",
        "outputId": "e2b8392c-280a-424d-d364-486e009e081f"
      },
      "execution_count": null,
      "outputs": [
        {
          "output_type": "stream",
          "name": "stdout",
          "text": [
            "0.8401069530816513\n",
            "0.8082580726507236\n",
            "0.08747063950640976\n",
            "0.030538522883735042\n",
            "0.6866291783063825\n",
            "0.13472106548001572\n",
            "0.8767897592629808\n",
            "0.3459404008824861\n",
            "0.32058834045293505\n",
            "0.24716569264724553\n"
          ]
        }
      ]
    },
    {
      "cell_type": "markdown",
      "source": [
        "Este programa produce la siguiente lista de 10 números aleatorios entre 0.0 y hasta\n",
        "(pero no incluyendo) 1.0."
      ],
      "metadata": {
        "id": "qd4TAxz-kSj8"
      }
    },
    {
      "cell_type": "markdown",
      "source": [
        "**Ejercicio 1: Ejecuta el programa en tu sistema y observa qué números obtienes.**\n",
        "\n",
        "La función **random** es solamente una de las muchas que trabajan con números\n",
        "aleatorios. La función **randint** toma los parámetros **inferior** y **superior**, y\n",
        "devuelve un entero entre **inferior** y **superior** (incluyendo ambos extremos)."
      ],
      "metadata": {
        "id": "PC9fXZyBkZ9X"
      }
    },
    {
      "cell_type": "code",
      "source": [
        "random.randint(5, 10)"
      ],
      "metadata": {
        "colab": {
          "base_uri": "https://localhost:8080/"
        },
        "id": "JSrc4QSzkUzF",
        "outputId": "d4c9f09a-81ab-4f41-eae5-70465a2e85be"
      },
      "execution_count": null,
      "outputs": [
        {
          "output_type": "execute_result",
          "data": {
            "text/plain": [
              "7"
            ]
          },
          "metadata": {},
          "execution_count": 18
        }
      ]
    },
    {
      "cell_type": "code",
      "source": [
        "random.randint(5, 10)"
      ],
      "metadata": {
        "colab": {
          "base_uri": "https://localhost:8080/"
        },
        "id": "iE-TiFFKk0gT",
        "outputId": "591c8ef8-3630-40f8-9437-1cfcbbac7af5"
      },
      "execution_count": null,
      "outputs": [
        {
          "output_type": "execute_result",
          "data": {
            "text/plain": [
              "5"
            ]
          },
          "metadata": {},
          "execution_count": 19
        }
      ]
    },
    {
      "cell_type": "markdown",
      "source": [
        "Para elegir un elemento de una secuencia aleatoriamente, se puede usar choice:"
      ],
      "metadata": {
        "id": "CZPclDRGk7MG"
      }
    },
    {
      "cell_type": "code",
      "source": [
        "t = [1, 2, 3]\n",
        "random.choice(t)"
      ],
      "metadata": {
        "colab": {
          "base_uri": "https://localhost:8080/"
        },
        "id": "_MNRbTnnk278",
        "outputId": "72cd5524-34cc-44d1-9238-c17230970a33"
      },
      "execution_count": null,
      "outputs": [
        {
          "output_type": "execute_result",
          "data": {
            "text/plain": [
              "1"
            ]
          },
          "metadata": {},
          "execution_count": 20
        }
      ]
    },
    {
      "cell_type": "code",
      "source": [
        "random.choice(t)"
      ],
      "metadata": {
        "colab": {
          "base_uri": "https://localhost:8080/"
        },
        "id": "oH_C9fWulHCK",
        "outputId": "b307b45f-50ee-4f04-a78f-492328931063"
      },
      "execution_count": null,
      "outputs": [
        {
          "output_type": "execute_result",
          "data": {
            "text/plain": [
              "1"
            ]
          },
          "metadata": {},
          "execution_count": 21
        }
      ]
    },
    {
      "cell_type": "markdown",
      "source": [
        "El módulo **random** también proporciona funciones para generar valores aleatorios\n",
        "de varias distribuciones continuas, incluyendo gaussiana, exponencial, gamma, y\n",
        "unas cuantas más."
      ],
      "metadata": {
        "id": "Yvv_T3LUlMMv"
      }
    },
    {
      "cell_type": "markdown",
      "source": [
        "## Añadiendo funciones nuevas"
      ],
      "metadata": {
        "id": "DLRdxCM5uGGE"
      }
    },
    {
      "cell_type": "markdown",
      "source": [
        "Hasta ahora, sólo hemos estado usando las funciones que vienen incorporadas en\n",
        "Python, pero es posible añadir también funciones nuevas. Una *definición de función* especifica el nombre de una función nueva y la secuencia de sentencias que se ejecutan cuando esa función es llamada. Una vez definida una función, se puede reutilizar una y otra vez a lo largo de todo el programa.\n",
        "\n",
        "He aquí un ejemplo:\n",
        "\n",
        "\n",
        "```\n",
        "def muestra_estribillo():\n",
        "  print('Soy un leñador, qué alegría.')\n",
        "  print('Duermo toda la noche y trabajo todo el día.')\n",
        "```\n",
        "**def** es una palabra clave que indica que se trata de una definición de función. El nombre de la función es **muestra_estribillo**. Las reglas para los nombres de las funciones son los mismos que para las variables: se pueden usar letras, números y algunos signos de puntuación, pero el primer carácter no puede ser un número. No se puede usar una palabra clave como nombre de una función, y se debería evitar también tener una variable y una función con el mismo nombre.\n",
        "\n",
        "Los paréntesis vacíos después del nombre indican que esta función no toma ningún\n",
        "argumento. Más tarde construiremos funciones que reciban argumentos de entrada.\n",
        "\n",
        "La primera línea de la definición de la función es llamada la cabecera; el resto se llama el cuerpo. La cabecera debe terminar con dos-puntos (:), y el cuerpo debe ir indentado. Por convención, el indentado es siempre de cuatro espacios (pero el colab usa 2). El cuerpo puede contener cualquier número de sentencias.\n",
        "\n",
        "Las cadenas en la sentencia print están encerradas entre comillas. Da igual utilizar comillas simples que dobles; la mayoría de la gente prefiere comillas simples, excepto en aquellos casos en los que una comilla simple (que también se usa como apostrofe) aparece en medio de la cadena.\n",
        "\n",
        "\n",
        "\n",
        "\n",
        "\n",
        "\n",
        "\n",
        "\n",
        "\n"
      ],
      "metadata": {
        "id": "xA35WGY4ugFz"
      }
    },
    {
      "cell_type": "code",
      "source": [
        "def muestra_estribillo():\n",
        "  print('Porque la noche de anoche fue \\nAlgo que yo no puedo explicar')\n",
        "  print('Eso era dando y dándole sin parar \\nTú me decías que morías por mí\\n')"
      ],
      "metadata": {
        "id": "GFBwAv3PlI9U"
      },
      "execution_count": 18,
      "outputs": []
    },
    {
      "cell_type": "markdown",
      "source": [
        "Al definir una función se crea una variable con el mismo nombre."
      ],
      "metadata": {
        "id": "r5uSiUxDyx47"
      }
    },
    {
      "cell_type": "code",
      "source": [
        "print(muestra_estribillo)"
      ],
      "metadata": {
        "colab": {
          "base_uri": "https://localhost:8080/"
        },
        "id": "A7TypE-bxzMw",
        "outputId": "66a34f83-f37c-4e47-9534-cf04d47bab3b"
      },
      "execution_count": 7,
      "outputs": [
        {
          "output_type": "stream",
          "name": "stdout",
          "text": [
            "<function muestra_estribillo at 0x7fa208c29510>\n"
          ]
        }
      ]
    },
    {
      "cell_type": "code",
      "source": [
        "type(muestra_estribillo)"
      ],
      "metadata": {
        "colab": {
          "base_uri": "https://localhost:8080/"
        },
        "id": "TVcyo3LfyREn",
        "outputId": "834218ab-7b7a-4d1b-821d-2779fe3400a4"
      },
      "execution_count": 8,
      "outputs": [
        {
          "output_type": "execute_result",
          "data": {
            "text/plain": [
              "function"
            ]
          },
          "metadata": {},
          "execution_count": 8
        }
      ]
    },
    {
      "cell_type": "markdown",
      "source": [
        "El valor de muestra_estribillo es function object (objeto función), que tiene\n",
        "como tipo “function”.\n",
        "\n",
        "La sintaxis para llamar a nuestra nueva función es la misma que usamos para las\n",
        "funciones internas:"
      ],
      "metadata": {
        "id": "ROp_D2aHyson"
      }
    },
    {
      "cell_type": "code",
      "source": [
        "muestra_estribillo()"
      ],
      "metadata": {
        "colab": {
          "base_uri": "https://localhost:8080/"
        },
        "id": "OexLR-2SyXZA",
        "outputId": "32154131-65de-40f2-a12e-06ae08964122"
      },
      "execution_count": 19,
      "outputs": [
        {
          "output_type": "stream",
          "name": "stdout",
          "text": [
            "Porque la noche de anoche fue \n",
            "Algo que yo no puedo explicar\n",
            "Eso era dando y dándole sin parar \n",
            "Tú me decías que morías por mí\n",
            "\n"
          ]
        }
      ]
    },
    {
      "cell_type": "markdown",
      "source": [
        "Una vez que se ha definido una función, puede usarse dentro de otra. Por ejemplo, para repetir el estribillo anterior, podríamos escribir una función llamada **repite_estribillo:**"
      ],
      "metadata": {
        "id": "C26KWGZP0G8M"
      }
    },
    {
      "cell_type": "code",
      "source": [
        "def repite_estribillo():\n",
        "  muestra_estribillo()\n",
        "  muestra_estribillo()"
      ],
      "metadata": {
        "id": "aM51IbAyzOuY"
      },
      "execution_count": 14,
      "outputs": []
    },
    {
      "cell_type": "markdown",
      "source": [
        "Y después llamar a repite_estribillo:"
      ],
      "metadata": {
        "id": "ANA-h8i-3Dok"
      }
    },
    {
      "cell_type": "code",
      "source": [
        "repite_estribillo()"
      ],
      "metadata": {
        "colab": {
          "base_uri": "https://localhost:8080/"
        },
        "id": "u9EsuQUl3EPE",
        "outputId": "09427bfb-ec59-47a5-d627-0585ecc10c57"
      },
      "execution_count": 20,
      "outputs": [
        {
          "output_type": "stream",
          "name": "stdout",
          "text": [
            "Porque la noche de anoche fue \n",
            "Algo que yo no puedo explicar\n",
            "Eso era dando y dándole sin parar \n",
            "Tú me decías que morías por mí\n",
            "\n",
            "Porque la noche de anoche fue \n",
            "Algo que yo no puedo explicar\n",
            "Eso era dando y dándole sin parar \n",
            "Tú me decías que morías por mí\n",
            "\n"
          ]
        }
      ]
    },
    {
      "cell_type": "markdown",
      "source": [
        "Pero en realidad la canción no es así."
      ],
      "metadata": {
        "id": "_j3mv6Ea35Fy"
      }
    },
    {
      "cell_type": "markdown",
      "source": [
        "##Definición y usos"
      ],
      "metadata": {
        "id": "sfhnYJ2U39DI"
      }
    },
    {
      "cell_type": "markdown",
      "source": [
        "Reuniendo los fragmentos de código de las secciones anteriores, el programa completo\n",
        "sería algo como esto:"
      ],
      "metadata": {
        "id": "PJIjGRPe4A75"
      }
    },
    {
      "cell_type": "code",
      "source": [
        "def muestra_estribillo():\n",
        "  print('Porque la noche de anoche fue \\nAlgo que yo no puedo explicar')\n",
        "  print('Eso era dando y dándole sin parar \\nTú me decías que morías por mí\\n')\n",
        "def repite_estribillo():\n",
        "  muestra_estribillo()\n",
        "  muestra_estribillo()"
      ],
      "metadata": {
        "id": "lM52k6PD3GHF"
      },
      "execution_count": 21,
      "outputs": []
    },
    {
      "cell_type": "code",
      "source": [
        "repite_estribillo()"
      ],
      "metadata": {
        "colab": {
          "base_uri": "https://localhost:8080/"
        },
        "id": "A1LNL-1f4MFI",
        "outputId": "299b2a35-2612-444b-a51f-8ba1cc08e36b"
      },
      "execution_count": 22,
      "outputs": [
        {
          "output_type": "stream",
          "name": "stdout",
          "text": [
            "Porque la noche de anoche fue \n",
            "Algo que yo no puedo explicar\n",
            "Eso era dando y dándole sin parar \n",
            "Tú me decías que morías por mí\n",
            "\n",
            "Porque la noche de anoche fue \n",
            "Algo que yo no puedo explicar\n",
            "Eso era dando y dándole sin parar \n",
            "Tú me decías que morías por mí\n",
            "\n"
          ]
        }
      ]
    },
    {
      "cell_type": "markdown",
      "source": [
        "Este programa contiene dos definiciones de funciones: **muestra_estribillo** y\n",
        "**repite_estribillo**. Las definiciones de funciones son ejecutadas exactamente\n",
        "igual que cualquier otra sentencia, pero su resultado consiste en crear objetos del tipo función. Las sentencias dentro de cada función son ejecutadas solamente\n",
        "cuando se llama a esa función, y la definición de una función no genera ninguna\n",
        "salida.\n",
        "\n",
        "Este programa contiene dos definiciones de funciones: muestra_estribillo y\n",
        "repite_estribillo. Las definiciones de funciones son ejecutadas exactamente\n",
        "igual que cualquier otra sentencia, pero su resultado consiste en crear objetos del tipo función. Las sentencias dentro de cada función son ejecutadas solamente\n",
        "cuando se llama a esa función, y la definición de una función no genera ninguna\n",
        "salida."
      ],
      "metadata": {
        "id": "XSL2UKnp4bzi"
      }
    },
    {
      "cell_type": "markdown",
      "source": [
        "**Ejercicio 2**: Desplaza la última línea del programa anterior hacia arriba,\n",
        "de modo que la llamada a la función aparezca antes que las definiciones.\n",
        "Ejecuta el programa y observa qué mensaje de error obtienes."
      ],
      "metadata": {
        "id": "Pd_1iH5D449d"
      }
    },
    {
      "cell_type": "code",
      "source": [],
      "metadata": {
        "id": "3iNboNVf4OLs"
      },
      "execution_count": null,
      "outputs": []
    },
    {
      "cell_type": "markdown",
      "source": [
        "**Ejercicio 3**: Desplaza la llamada de la función de nuevo hacia el final,\n",
        "y coloca la definición de muestra_estribillo después de la definición de\n",
        "repite_estribillo. ¿Qué ocurre cuando haces funcionar ese programa?"
      ],
      "metadata": {
        "id": "RkEnGbxy48_k"
      }
    },
    {
      "cell_type": "code",
      "source": [],
      "metadata": {
        "id": "hIEShD8V4-xd"
      },
      "execution_count": null,
      "outputs": []
    },
    {
      "cell_type": "markdown",
      "source": [
        "### Flujo de ejecución"
      ],
      "metadata": {
        "id": "5SBsUMeI5JTK"
      }
    },
    {
      "cell_type": "markdown",
      "source": [
        "Para asegurarnos de que una función está definida antes de usarla por primera\n",
        "vez, es necesario saber el orden en que las sentencias son ejecutadas, que es lo que llamamos el *flujo de ejecución*.\n",
        "\n",
        "La ejecución siempre comienza en la primera sentencia del programa. Las sentencias son ejecutadas una por una, en orden de arriba hacia abajo.\n",
        "\n",
        "\n",
        "Las definiciones de funciones no alteran el flujo de la ejecución del programa, pero recuerda que las sentencias dentro de una función no son ejecutadas hasta que se llama a esa función.\n",
        "\n",
        "\n",
        "Una llamada a una función es como un desvío en el flujo de la ejecución. En vez de pasar a la siguiente sentencia, el flujo salta al cuerpo de la función, ejecuta todas las sentencias que hay allí, y después vuelve al punto donde lo dejó.\n",
        "\n",
        "\n",
        "Todo esto parece bastante sencillo, hasta que uno recuerda que una función puede\n",
        "llamar a otra. Cuando está en mitad de una función, el programa puede tener que\n",
        "ejecutar las sentencias de otra función. Pero cuando está ejecutando esa nueva\n",
        "función, ¡tal vez haya que ejecutar todavía más funciones!\n",
        "\n",
        "Afortunadamente, Python es capaz de llevar el seguimiento de dónde se encuentra\n",
        "en cada momento, de modo que cada vez que completa la ejecución de una función,\n",
        "el programa vuelve al punto donde lo dejó en la función que había llamado a esa.\n",
        "Cuando esto le lleva hasta el final del programa, simplemente termina.\n",
        "\n",
        "\n",
        "¿Cuál es la moraleja de esta extraña historia? Cuando leas un programa, no\n",
        "siempre te convendrá hacerlo de arriba a abajo. A veces tiene más sentido seguir\n",
        "el flujo de la ejecución."
      ],
      "metadata": {
        "id": "6Yi3UpT45Mv6"
      }
    },
    {
      "cell_type": "markdown",
      "source": [
        "## Parámetros y argumentos\n"
      ],
      "metadata": {
        "id": "5LJJdwg-6E85"
      }
    },
    {
      "cell_type": "markdown",
      "source": [
        "Algunas de las funciones internas que hemos visto necesitan argumentos. Por\n",
        "ejemplo, cuando se llama a **math.sin**, se le pasa un número como argumento.\n",
        "Algunas funciones necesitan más de un argumento: **math.pow** toma dos, la base y el exponente.\n",
        "\n",
        "Dentro de las funciones, los argumentos son asignados a variables llamadas *parámetros*. A continuación mostramos un ejemplo de una función definida por el usuario que recibe un argumento:"
      ],
      "metadata": {
        "id": "lRoEJ3I16Kcj"
      }
    },
    {
      "cell_type": "code",
      "source": [
        "def muestra_dos_veces(moskito):\n",
        "  print(moskito)\n",
        "  print(moskito)"
      ],
      "metadata": {
        "id": "P-smAj4n5L5p"
      },
      "execution_count": 24,
      "outputs": []
    },
    {
      "cell_type": "markdown",
      "source": [
        "Esta función asigna el argumento a un parámetro llamado moskito. Cuando la\n",
        "función es llamada, imprime el valor del parámetro (sea éste lo que sea) dos veces.\n",
        "Esta función funciona con cualquier valor que pueda ser mostrado en pantalla."
      ],
      "metadata": {
        "id": "-zAGi-7264BT"
      }
    },
    {
      "cell_type": "code",
      "source": [
        "muestra_dos_veces('Spam')"
      ],
      "metadata": {
        "colab": {
          "base_uri": "https://localhost:8080/"
        },
        "id": "GFaXbbQu66aw",
        "outputId": "a678d2a1-5df4-43f7-8332-7e88d3b557b3"
      },
      "execution_count": 25,
      "outputs": [
        {
          "output_type": "stream",
          "name": "stdout",
          "text": [
            "Spam\n",
            "Spam\n"
          ]
        }
      ]
    },
    {
      "cell_type": "code",
      "source": [
        "muestra_dos_veces(17)"
      ],
      "metadata": {
        "colab": {
          "base_uri": "https://localhost:8080/"
        },
        "id": "yfUFRzFv69Gi",
        "outputId": "e978973c-881b-4db2-f133-c00678d97c1a"
      },
      "execution_count": 26,
      "outputs": [
        {
          "output_type": "stream",
          "name": "stdout",
          "text": [
            "17\n",
            "17\n"
          ]
        }
      ]
    },
    {
      "cell_type": "code",
      "source": [
        "import math\n",
        "muestra_dos_veces(math.pi)"
      ],
      "metadata": {
        "colab": {
          "base_uri": "https://localhost:8080/"
        },
        "id": "4j-9rZ8X6_cL",
        "outputId": "caa91fcb-3b3f-4843-f088-2e87c6be0b48"
      },
      "execution_count": 28,
      "outputs": [
        {
          "output_type": "stream",
          "name": "stdout",
          "text": [
            "3.141592653589793\n",
            "3.141592653589793\n"
          ]
        }
      ]
    },
    {
      "cell_type": "markdown",
      "source": [
        "Las mismas reglas de composición que se aplican a las funciones internas, también\n",
        "se aplican a las funciones definidas por el usuario, de modo que podemos usar\n",
        "cualquier tipo de expresión como argumento para **muestra_dos_veces:**:"
      ],
      "metadata": {
        "id": "_x28vLQH8jQ1"
      }
    },
    {
      "cell_type": "code",
      "source": [
        "muestra_dos_veces('Spam '*4)"
      ],
      "metadata": {
        "colab": {
          "base_uri": "https://localhost:8080/"
        },
        "id": "hpmdi5947CR6",
        "outputId": "f3ae5fa6-f13b-4756-bc3b-78e39f9b1354"
      },
      "execution_count": 29,
      "outputs": [
        {
          "output_type": "stream",
          "name": "stdout",
          "text": [
            "Spam Spam Spam Spam \n",
            "Spam Spam Spam Spam \n"
          ]
        }
      ]
    },
    {
      "cell_type": "code",
      "source": [
        "muestra_dos_veces(math.cos(math.pi))"
      ],
      "metadata": {
        "colab": {
          "base_uri": "https://localhost:8080/"
        },
        "id": "nbSmXDVV8qqx",
        "outputId": "62428601-f81f-45b2-ffdc-374a1e894c90"
      },
      "execution_count": 30,
      "outputs": [
        {
          "output_type": "stream",
          "name": "stdout",
          "text": [
            "-1.0\n",
            "-1.0\n"
          ]
        }
      ]
    },
    {
      "cell_type": "markdown",
      "source": [
        "El argumento es evaluado antes de que la función sea llamada, así que en los\n",
        "ejemplos, la expresión **Spam *4** y **math.cos(math.pi)** son evaluadas sólo una vez.\n",
        "\n",
        "También se puede usar una variable como argumento:"
      ],
      "metadata": {
        "id": "PKn41adi9wS1"
      }
    },
    {
      "cell_type": "code",
      "source": [
        "linda=\"Tú ere' linda y yo estoy rulin\\nNos besamo', pero somo' homie'\\n\"\n",
        "muestra_dos_veces(linda)"
      ],
      "metadata": {
        "colab": {
          "base_uri": "https://localhost:8080/"
        },
        "id": "wrUJQVsS9lnh",
        "outputId": "6c7b13b5-bef1-4af6-8aee-5dba001eb88a"
      },
      "execution_count": 33,
      "outputs": [
        {
          "output_type": "stream",
          "name": "stdout",
          "text": [
            "Tú ere' linda y yo estoy rulin\n",
            "Nos besamo', pero somo' homie'\n",
            "\n",
            "Tú ere' linda y yo estoy rulin\n",
            "Nos besamo', pero somo' homie'\n",
            "\n"
          ]
        }
      ]
    },
    {
      "cell_type": "markdown",
      "source": [
        "El nombre de la variable que pasamos como argumento, (**linda**) no tiene nada\n",
        "que ver con el nombre del parámetro (**moskito**). No importa cómo se haya llamado al valor en origen (en la llamada); dentro de **muestra_dos_veces**, siempre se llamará **moskito**."
      ],
      "metadata": {
        "id": "6BDPPtm9_nRL"
      }
    },
    {
      "cell_type": "markdown",
      "source": [
        "##FUNCIONES PRODUCTIVAS Y FUNCIONES ESTÉRILES"
      ],
      "metadata": {
        "id": "YQQ5FlkT9oXv"
      }
    },
    {
      "cell_type": "markdown",
      "source": [
        "Algunas de las funciones que estamos usando, como las matemáticas, producen resultados; a falta de un nombre mejor, las llamaremos *funciones productivas* (fruitful\n",
        "functions). Otras funciones, como **muestra_dos_veces**, realizan una acción, pero no devuelven un valor. A esas las llamaremos *funciones estériles* (void functions).\n",
        "\n",
        "Cuando llamas a una función productiva, casi siempre querrás hacer luego algo\n",
        "con el resultado; por ejemplo, puede que quieras asignarlo a una variable o usarlo\n",
        "como parte de una expresión:"
      ],
      "metadata": {
        "id": "cZfYT6aN_8ls"
      }
    },
    {
      "cell_type": "code",
      "source": [
        "x = math.cos(radians)\n",
        "aurea = (math.sqrt(5) + 1) / 2"
      ],
      "metadata": {
        "id": "W15KxtoJ_lWA"
      },
      "execution_count": null,
      "outputs": []
    },
    {
      "cell_type": "markdown",
      "source": [
        "Cuando llamas a una función en colab, Python muestra el resultado:"
      ],
      "metadata": {
        "id": "ptX9NxlVATS8"
      }
    },
    {
      "cell_type": "code",
      "source": [
        "math.sqrt(5)"
      ],
      "metadata": {
        "colab": {
          "base_uri": "https://localhost:8080/"
        },
        "id": "0jy8fnlWAo4q",
        "outputId": "f5751869-f305-4e90-a303-0795b17b4885"
      },
      "execution_count": 35,
      "outputs": [
        {
          "output_type": "execute_result",
          "data": {
            "text/plain": [
              "2.23606797749979"
            ]
          },
          "metadata": {},
          "execution_count": 35
        }
      ]
    },
    {
      "cell_type": "markdown",
      "source": [
        "Pero en un script, si llamas a una función productiva y no almacenas el resultado de la misma en una variable, ¡el valor de retorno se desvanece en la niebla!\n",
        "Este script calcula la raíz cuadrada de 5, pero dado que no almacena el resultado en una variable ni lo muestra, no resulta en realidad muy útil.\n",
        "\n",
        "Las funciones estériles pueden mostrar algo en la pantalla o tener cualquier otro efecto, pero no devuelven un valor. Si intentas asignar el resultado a una variable, obtendrás un valor especial llamado **None** (nada)."
      ],
      "metadata": {
        "id": "DzkvC_pLA041"
      }
    },
    {
      "cell_type": "code",
      "source": [
        "resultado = muestra_dos_veces('Bing')"
      ],
      "metadata": {
        "colab": {
          "base_uri": "https://localhost:8080/"
        },
        "id": "BIwlr4bJAqVb",
        "outputId": "78440662-dda3-4cff-daf6-eda6d9468ee1"
      },
      "execution_count": 36,
      "outputs": [
        {
          "output_type": "stream",
          "name": "stdout",
          "text": [
            "Bing\n",
            "Bing\n"
          ]
        }
      ]
    },
    {
      "cell_type": "code",
      "source": [
        "print(resultado)"
      ],
      "metadata": {
        "colab": {
          "base_uri": "https://localhost:8080/"
        },
        "id": "SJHFbMHZBFRA",
        "outputId": "5f943d8b-3e7d-447a-f42f-eec9c6788786"
      },
      "execution_count": 37,
      "outputs": [
        {
          "output_type": "stream",
          "name": "stdout",
          "text": [
            "None\n"
          ]
        }
      ]
    },
    {
      "cell_type": "markdown",
      "source": [
        "El valor **None** no es el mismo que la cadena “None”. Es un valor especial que tiene su propio tipo:"
      ],
      "metadata": {
        "id": "a5L2-B1nBLpR"
      }
    },
    {
      "cell_type": "code",
      "source": [
        "print(type(None))"
      ],
      "metadata": {
        "colab": {
          "base_uri": "https://localhost:8080/"
        },
        "id": "zL11vcNiBIVA",
        "outputId": "39a11f7e-941f-41d1-bc92-a67c9d1fd295"
      },
      "execution_count": 38,
      "outputs": [
        {
          "output_type": "stream",
          "name": "stdout",
          "text": [
            "<class 'NoneType'>\n"
          ]
        }
      ]
    },
    {
      "cell_type": "markdown",
      "source": [
        "Para devolver un resultado desde una función, usamos la sentencia **return** dentro\n",
        "de ella. Por ejemplo, podemos crear una función muy simple llamada sumados,\n",
        "que suma dos números y devuelve el resultado."
      ],
      "metadata": {
        "id": "W0pLrdeSBUf9"
      }
    },
    {
      "cell_type": "code",
      "source": [
        "def sumados(a, b):\n",
        "  suma = a + b\n",
        "  return suma\n",
        "x = sumados(3, 5)\n",
        "print(x)"
      ],
      "metadata": {
        "colab": {
          "base_uri": "https://localhost:8080/"
        },
        "id": "e3wiXNSsBR74",
        "outputId": "e58ab2e5-b123-4997-f683-78897f5b3d62"
      },
      "execution_count": 39,
      "outputs": [
        {
          "output_type": "stream",
          "name": "stdout",
          "text": [
            "8\n"
          ]
        }
      ]
    },
    {
      "cell_type": "markdown",
      "source": [
        "Cuando se ejecuta este script, la sentencia **print** mostrará “8”, ya que la función **sumados** ha sido llamada con 3 y 5 como argumentos. Dentro de la función, los parámetros **a** y **b** equivaldrán a 3 y a 5 respectivamente. La función calculó la suma de ambos número y la guardó en una variable local a la función llamada **suma**. Después usó la sentencia **return** para enviar el valor calculado de vuelta al código de llamada como resultado de la función, que fue asignado a la variable **x** y mostrado en pantalla."
      ],
      "metadata": {
        "id": "EGano-SrBkWF"
      }
    },
    {
      "cell_type": "markdown",
      "source": [
        "##¿Por qué funciones?"
      ],
      "metadata": {
        "id": "m6gRNt4kB2v1"
      }
    },
    {
      "cell_type": "markdown",
      "source": [
        "Puede no estar muy claro por qué merece la pena molestarse en dividir un programa en funciones. Existen varias razones:\n",
        "\n",
        "* El crear una función nueva te da la oportunidad de dar nombre a un grupo\n",
        "de sentencias, lo cual hace tu programa más fácil de leer, entender y depurar.\n",
        "\n",
        "* Las funciones pueden hacer un programa más pequeño, al eliminar código\n",
        "repetido. Además, si quieres realizar cualquier cambio en el futuro, sólo\n",
        "tendrás que hacerlo en un único lugar.\n",
        "\n",
        "* Dividir un programa largo en funciones te permite depurar las partes de una\n",
        "en una y luego ensamblarlas juntas en una sola pieza.\n",
        "\n",
        "* Las funciones bien diseñadas a menudo resultan útiles para otros muchos\n",
        "programas. Una vez que has escrito y depurado una, puedes reutilizarla.\n",
        "\n",
        "A lo largo del resto del libro, a menudo usaremos una definición de función para\n",
        "explicar un concepto. Parte de la habilidad de crear y usar funciones consiste en llegar a tener una función que represente correctamente una idea, como “encontrar el valor más pequeño en una lista de valores”. Más adelante te mostraremos el código para encontrar el valor más pequeño de una lista de valores y te lo presentaremos como una función llamada **min**, que toma una lista de valores como argumento y devuelve el menor valor de esa lista."
      ],
      "metadata": {
        "id": "F5zhtGQCCDIl"
      }
    },
    {
      "cell_type": "markdown",
      "source": [
        "##Depuración"
      ],
      "metadata": {
        "id": "l-khFK1fCdZm"
      }
    },
    {
      "cell_type": "markdown",
      "source": [
        "Si estás usando un editor de texto para escribir tus propios scripts, puede que tengas problemas con los espacios y tabulaciones. El mejor modo de evitar esos problemas es usar espacios exclusivamente (no tabulaciones). La mayoría de los editores de texto que reconocen Python lo hacen así por defecto, aunque hay algunos que no.\n",
        "\n",
        "\n",
        "Las tabulaciones y los espacios normalmente son invisibles, lo cual hace que sea\n",
        "difícil depurar los errores que se pueden producir, así que mejor busca un editor que gestione el indentado por ti.\n",
        "\n",
        "Tampoco te olvides de guardar tu programa antes de hacerlo funcionar. Algunos\n",
        "entornos de desarrollo lo hacen automáticamente, pero otros no. En ese caso, el\n",
        "programa que estás viendo en el editor de texto puede no ser el mismo que estás\n",
        "ejecutando en realidad.\n",
        "\n",
        "¡La depuración puede llevar mucho tiempo si estás haciendo funcionar el mismo\n",
        "programa con errores una y otra vez!\n",
        "\n",
        "Asegúrate de que el código que estás examinando es el mismo que estás ejecutando. Si no estás seguro, pon algo como **print(\"hola\")** al principio del programa y hazlo funcionar de nuevo. Si no ves **hola** en la pantalla, ¡es que no estás ejecutando el programa correcto!"
      ],
      "metadata": {
        "id": "3boQEfizCkbt"
      }
    },
    {
      "cell_type": "markdown",
      "source": [
        "**Ejercicio 4: ¿Cuál es la utilidad de la palabra clave “def” en Python?**\n",
        "\n",
        "a) Es una jerga que significa “este código es realmente estupendo”\n",
        "\n",
        "b) Indica el comienzo de una función\n",
        "\n",
        "c) Indica que la siguiente sección de código indentado debe ser almacenada para\n",
        "usarla más tarde\n",
        "\n",
        "d) b y c son correctas ambas\n",
        "\n",
        "e) Ninguna de las anteriores\n"
      ],
      "metadata": {
        "id": "ssRhhsB3DBwO"
      }
    },
    {
      "cell_type": "markdown",
      "source": [
        "**Ejercicio 5: ¿Qué mostrará en pantalla el siguiente programa Python?**\n",
        "\n",
        "\n",
        "```\n",
        "def fred():\n",
        "  print(\"Zap\")\n",
        "def jane():\n",
        "  print(\"ABC\")\n",
        "\n",
        "jane()\n",
        "fred()\n",
        "jane()\n",
        "```\n",
        "a) Zap ABC jane fred jane\n",
        "\n",
        "b) Zap ABC Zap\n",
        "\n",
        "c) ABC Zap jane\n",
        "\n",
        "d) ABC Zap ABC\n",
        "\n",
        "e) Zap Zap Zap\n",
        "\n",
        "\n",
        "\n",
        "\n"
      ],
      "metadata": {
        "id": "NWOxlI18DRRJ"
      }
    },
    {
      "cell_type": "markdown",
      "source": [
        "**Ejercicio 6: Reescribe el programa de cálculo del salario, con tarifa-ymedia\n",
        "para las horas extras, y crea una función llamada calculo_salario que reciba dos parámetros (horas y tarifa).**\n",
        "\n",
        "Introduzca Horas: 45\n",
        "\n",
        "Introduzca Tarifa: 10\n",
        "\n",
        "Salario: 475.0"
      ],
      "metadata": {
        "id": "BC9nlyHdHA35"
      }
    },
    {
      "cell_type": "code",
      "source": [],
      "metadata": {
        "id": "jaZRtuAZCkLu"
      },
      "execution_count": null,
      "outputs": []
    },
    {
      "cell_type": "markdown",
      "source": [
        "**Ejercicio 7: Reescribe el programa de calificaciones del capítulo anterior\n",
        "usando una función llamada calcula_calificacion, que reciba una\n",
        "puntuación como parámetro y devuelva una calificación como cadena.**\n",
        "\n",
        "Puntuación Calificación\n",
        "\n",
        "\\> 0.9 Sobresaliente\n",
        "\n",
        "\\> 0.8 Notable\n",
        "\n",
        "\\> 0.7 Bien\n",
        "\n",
        "\\> 0.6 Suficiente\n",
        "\n",
        "\\<= 0.6 Insuficiente\n",
        "\n",
        "\n",
        "\n",
        "```\n",
        "Introduzca puntuación: 0.95\n",
        "\n",
        "Sobresaliente\n",
        "```\n",
        "\n",
        "\n",
        "```\n",
        "Introduzca puntuación: perfecto\n",
        "\n",
        "Puntuación incorrecta\n",
        "```\n",
        "```\n",
        "Introduzca puntuación: 10.0\n",
        "\n",
        "Puntuación incorrecta\n",
        "```\n",
        "```\n",
        "Introduzca puntuación: 0.75\n",
        "\n",
        "Bien\n",
        "```\n",
        "```\n",
        "Introduzca puntuación: 0.5\n",
        "\n",
        "Insuficiente\n",
        "```\n",
        "\n",
        "Ejecuta el programa repetidamente para probar con varios valores de entrada diferentes."
      ],
      "metadata": {
        "id": "x9QgCfXMHNr-"
      }
    },
    {
      "cell_type": "code",
      "source": [],
      "metadata": {
        "id": "MD2pkV7nCCzG"
      },
      "execution_count": null,
      "outputs": []
    },
    {
      "cell_type": "code",
      "source": [],
      "metadata": {
        "id": "PPFwey9sBz6p"
      },
      "execution_count": null,
      "outputs": []
    }
  ]
}